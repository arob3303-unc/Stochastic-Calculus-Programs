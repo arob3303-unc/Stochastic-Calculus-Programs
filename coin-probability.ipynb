{
 "cells": [
  {
   "cell_type": "markdown",
   "id": "14e76f8c",
   "metadata": {},
   "source": [
    "### Probability Theory on Coin Toss Space"
   ]
  },
  {
   "cell_type": "markdown",
   "id": "1eba41e2",
   "metadata": {},
   "source": [
    "#### - *notes*\n",
    "1. Finite Spaces\n",
    "    - "
   ]
  },
  {
   "cell_type": "code",
   "execution_count": null,
   "id": "dec6e50d",
   "metadata": {},
   "outputs": [],
   "source": []
  }
 ],
 "metadata": {
  "kernelspec": {
   "display_name": "Python 3",
   "language": "python",
   "name": "python3"
  },
  "language_info": {
   "codemirror_mode": {
    "name": "ipython",
    "version": 3
   },
   "file_extension": ".py",
   "mimetype": "text/x-python",
   "name": "python",
   "nbconvert_exporter": "python",
   "pygments_lexer": "ipython3",
   "version": "3.11.5"
  }
 },
 "nbformat": 4,
 "nbformat_minor": 5
}
